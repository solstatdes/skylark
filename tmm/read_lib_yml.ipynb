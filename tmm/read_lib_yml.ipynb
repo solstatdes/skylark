{
 "cells": [
  {
   "cell_type": "code",
   "execution_count": null,
   "metadata": {
    "collapsed": false
   },
   "outputs": [],
   "source": [
    "import db\n",
    "import os\n",
    "import json\n",
    "LIBRARY_PATH = '../static/refractiveindex/database/'"
   ]
  },
  {
   "cell_type": "code",
   "execution_count": null,
   "metadata": {
    "collapsed": false
   },
   "outputs": [],
   "source": [
    "LIBRARY_PATH"
   ]
  },
  {
   "cell_type": "code",
   "execution_count": null,
   "metadata": {
    "collapsed": false
   },
   "outputs": [],
   "source": [
    "tbnk = os.path.join(LIBRARY_PATH, 'main/Ag/Rakic.yml')\n",
    "tbn = os.path.join(LIBRARY_PATH, 'glass/barberini/D1214.yml')\n",
    "f1 = os.path.join(LIBRARY_PATH, 'main/GaAs/Skauli.yml')\n",
    "f2 = os.path.join(LIBRARY_PATH, 'main/SiC/Singh-o.yml')\n",
    "f2k = os.path.join(LIBRARY_PATH, 'glass/schott/N-BK7.yml')\n",
    "f2k2 = os.path.join(LIBRARY_PATH, 'glass/schott/obsolete/LITHOTEC-CAF2.yml')\n",
    "fk = os.path.join(LIBRARY_PATH, 'other/heat transfer fluids/Therminol VP-1/Otanicar.yml')\n",
    "f3 = os.path.join(LIBRARY_PATH, 'glass/cdgm/D-K9L.yml')\n",
    "#f5k = os.path.join(LIBRARY_PATH, ')\n",
    "\n",
    "test_list = {'tbnk' : tbnk,\n",
    "             'tbn'  : tbn,\n",
    "             'f1'   : f1,\n",
    "             'f2'   : f2,\n",
    "             'f2k'  : f2k,\n",
    "             'f2k2' : f2k2,\n",
    "             'fk'   : fk,\n",
    "             'f3'   : f3}\n",
    "             #'f5k' : f5k"
   ]
  },
  {
   "cell_type": "code",
   "execution_count": null,
   "metadata": {
    "collapsed": false
   },
   "outputs": [],
   "source": [
    "#test all library types\n",
    "\n",
    "def data_test():\n",
    "\n",
    "    for item in test_list:\n",
    "        obj = db.L(test_list.get(item, None))\n",
    "        data = obj.grabData()\n",
    "        print item, data.keys()\n",
    "    \n",
    "    "
   ]
  },
  {
   "cell_type": "code",
   "execution_count": null,
   "metadata": {
    "collapsed": false,
    "scrolled": true
   },
   "outputs": [],
   "source": [
    "data_test()\n"
   ]
  },
  {
   "cell_type": "code",
   "execution_count": null,
   "metadata": {
    "collapsed": true
   },
   "outputs": [],
   "source": []
  },
  {
   "cell_type": "code",
   "execution_count": null,
   "metadata": {
    "collapsed": true
   },
   "outputs": [],
   "source": []
  },
  {
   "cell_type": "code",
   "execution_count": null,
   "metadata": {
    "collapsed": true
   },
   "outputs": [],
   "source": []
  }
 ],
 "metadata": {
  "kernelspec": {
   "display_name": "Python 2",
   "language": "python",
   "name": "python2"
  },
  "language_info": {
   "codemirror_mode": {
    "name": "ipython",
    "version": 2
   },
   "file_extension": ".py",
   "mimetype": "text/x-python",
   "name": "python",
   "nbconvert_exporter": "python",
   "pygments_lexer": "ipython2",
   "version": "2.7.6"
  }
 },
 "nbformat": 4,
 "nbformat_minor": 0
}
